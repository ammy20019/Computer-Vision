{
 "cells": [
  {
   "cell_type": "markdown",
   "metadata": {},
   "source": [
    "### simple thresholding"
   ]
  },
  {
   "cell_type": "code",
   "execution_count": 11,
   "metadata": {},
   "outputs": [],
   "source": [
    "import cv2\n",
    "import numpy as np\n",
    "image=cv2.imread(\"C:/Users/Admin/Pictures/cartoon.jpg\")\n",
    "image1=cv2.cvtColor(image,cv2.COLOR_BGR2GRAY)\n",
    "\n",
    "ret,image2=cv2.threshold(image1,150,255,cv2.THRESH_BINARY)\n",
    "#whatevr value before 140 it converted to 0 i.e. black\n",
    "\n",
    "ret,image3=cv2.threshold(image1,150,255,cv2.THRESH_BINARY_INV)\n",
    "ret,image4=cv2.threshold(image1,150,255,cv2.THRESH_TRUNC)\n",
    "#in trunc above 140 becomes 140 and below 140 remain same\n",
    "ret,image5=cv2.threshold(image1,150,255,cv2.THRESH_TOZERO)\n",
    "#tozero above 140 remains same below changes to 0\n",
    "ret,image6=cv2.threshold(image1,150,255,cv2.THRESH_TOZERO_INV)\n",
    "\n",
    "cv2.imshow(\"original\",image1)\n",
    "cv2.imshow(\"Binary\",image2)\n",
    "cv2.imshow(\"Binary Inverse\",image3)\n",
    "cv2.imshow(\"Trunc\",image3)\n",
    "cv2.imshow(\"Tozero\",image3)\n",
    "cv2.imshow(\"Tozero Inverse\",image3)\n",
    "cv2.waitKey()\n",
    "cv2.destroyAllWindows()\n",
    "\n",
    "#methods\n",
    "#thresh_binary, thresh binary inverse, trunc, tozero"
   ]
  },
  {
   "cell_type": "markdown",
   "metadata": {},
   "source": [
    "### adaptive threshholding"
   ]
  },
  {
   "cell_type": "code",
   "execution_count": 18,
   "metadata": {},
   "outputs": [],
   "source": [
    "#cv2.ADAPTIVE_THRESH_MEAN_C\n",
    "#cv2.ADAPTIVE_THRESH_GAUSSIAN_C\n",
    "import cv2\n",
    "import numpy as np\n",
    "image=cv2.imread(\"C:/Users/Admin/Pictures/cartoon.jpg\")\n",
    "image1=cv2.cvtColor(image,cv2.COLOR_BGR2GRAY)\n",
    "\n",
    "image7=cv2.adaptiveThreshold(image1,255,cv2.ADAPTIVE_THRESH_MEAN_C,\n",
    "                             cv2.THRESH_BINARY,3,2)\n",
    "image8=cv2.adaptiveThreshold(image1,255,cv2.ADAPTIVE_THRESH_MEAN_C,\n",
    "                             cv2.THRESH_BINARY,5,5)\n",
    "#odd no and greater than 1 \n",
    "\n",
    "cv2.imshow(\"original\",image1)\n",
    "cv2.imshow(\"Mean\",image7)\n",
    "cv2.imshow(\"Mean clear\",image8)\n",
    "cv2.waitKey()\n",
    "cv2.destroyAllWindows()\n"
   ]
  },
  {
   "cell_type": "markdown",
   "metadata": {},
   "source": [
    "### erosion and dilution\n",
    "#### erosion - thin edges, dilation- thick"
   ]
  },
  {
   "cell_type": "code",
   "execution_count": 26,
   "metadata": {},
   "outputs": [],
   "source": [
    "import cv2\n",
    "import numpy as np\n",
    "\n",
    "kernel=np.ones((5,5),np.uint8)\n",
    "\n",
    "image=cv2.imread(\"C:/Users/Admin/Pictures/cartoon.jpg\")\n",
    "image1,cv2.erode(image,kernel,iterations=1)\n",
    "#if too thick then can use more than 1 iterations\n",
    "image2=cv2.dilate(image,kernel,iterations=1)\n",
    "image3=cv2.morphologyEx(image,cv2.MORPH_OPEN,kernel)\n",
    "#open erosion then dilation\n",
    "image4=cv2.morphologyEx(image,cv2.MORPH_CLOSE,kernel)\n",
    "#close dilation then erosion\n",
    "cv2.imshow(\"Original\",image)\n",
    "cv2.imshow(\"Erosion\",image1)\n",
    "cv2.imshow(\"Dilation\",image2)\n",
    "cv2.imshow(\"Morph open\",image3)\n",
    "cv2.imshow(\"Morph close\",image4)\n",
    "cv2.waitKey()\n",
    "cv2.destroyAllWindows()"
   ]
  },
  {
   "cell_type": "markdown",
   "metadata": {},
   "source": [
    "### Edge detection"
   ]
  },
  {
   "cell_type": "code",
   "execution_count": 35,
   "metadata": {},
   "outputs": [],
   "source": [
    "import cv2\n",
    "import numpy as np\n",
    "\n",
    "image=cv2.imread(\"C:/Users/Admin/Pictures/wallpapers and my pic/t.jpg\")\n",
    "image1=cv2.Canny(image,90,200)\n",
    "\n",
    "cv2.imshow(\"Original\",image)\n",
    "cv2.imshow(\"Canny\",image1)\n",
    "\n",
    "cv2.waitKey()\n",
    "cv2.destroyAllWindows()"
   ]
  },
  {
   "cell_type": "markdown",
   "metadata": {},
   "source": [
    "### image pyramids"
   ]
  },
  {
   "cell_type": "code",
   "execution_count": 10,
   "metadata": {},
   "outputs": [],
   "source": [
    "import cv2\n",
    "import numpy as np\n",
    "\n",
    "image=cv2.imread(\"C:/Users/Admin/Pictures/wallpapers and my pic/t.jpg\")\n",
    "# image1=cv2.pyrDown(image)\n",
    "# image2=cv2.pyrDown(image1)\n",
    "#reducing size\n",
    "\n",
    "def gaussian(image):\n",
    "    gp=[image]\n",
    "    for i in range (6):\n",
    "        image=cv2.pyrDown(image)\n",
    "        gp.append(image)\n",
    "        cv2.imshow(str(i),gp[i])\n",
    "\n",
    "        \n",
    "        \n",
    "def laplacian(image):\n",
    "    gp=[image]\n",
    "    for i in range (6):\n",
    "        image=cv2.pyrDown(image)\n",
    "        gp.append(image)\n",
    "    lp=[gp[5]]\n",
    "    for i in range (5,0,-1):\n",
    "        gauss_expand=cv2.pyrUp(gp[i])\n",
    "        lap=cv2.subtract(gp[i-1],gauss_expand)\n",
    "        lp.append(lap)\n",
    "        cv2.imshow(str(i),lap)\n",
    "\n",
    "#gaussian(image)\n",
    "laplacian(image)\n",
    "# image3=cv2.pyrUp(image2)\n",
    "#gaussian pyramid bcz after reducing we are incresing again resultin in blr\n",
    "# cv2.imshow(\"Original\",image)\n",
    "# cv2.imshow(str(image1.shape),image1)\n",
    "# cv2.imshow(str(image2.shape),image2)\n",
    "# cv2.imshow(str(image3.shape),image3)\n",
    "\n",
    "cv2.waitKey()\n",
    "cv2.destroyAllWindows()"
   ]
  },
  {
   "cell_type": "markdown",
   "metadata": {},
   "source": [
    "### image blending"
   ]
  },
  {
   "cell_type": "code",
   "execution_count": 12,
   "metadata": {},
   "outputs": [
    {
     "ename": "error",
     "evalue": "OpenCV(4.4.0) C:\\Users\\appveyor\\AppData\\Local\\Temp\\1\\pip-req-build-6sxsq0tp\\opencv\\modules\\core\\src\\arithm.cpp:669: error: (-209:Sizes of input arguments do not match) The operation is neither 'array op array' (where arrays have the same size and the same number of channels), nor 'array op scalar', nor 'scalar op array' in function 'cv::arithm_op'\n",
     "output_type": "error",
     "traceback": [
      "\u001b[1;31m---------------------------------------------------------------------------\u001b[0m",
      "\u001b[1;31merror\u001b[0m                                     Traceback (most recent call last)",
      "\u001b[1;32m<ipython-input-12-0d2d42b72554>\u001b[0m in \u001b[0;36m<module>\u001b[1;34m\u001b[0m\n\u001b[0;32m     20\u001b[0m     \u001b[1;32mreturn\u001b[0m \u001b[0mlp\u001b[0m\u001b[1;33m\u001b[0m\u001b[1;33m\u001b[0m\u001b[0m\n\u001b[0;32m     21\u001b[0m \u001b[1;33m\u001b[0m\u001b[0m\n\u001b[1;32m---> 22\u001b[1;33m \u001b[0mlp_apple1\u001b[0m\u001b[1;33m=\u001b[0m\u001b[0mlaplacian\u001b[0m\u001b[1;33m(\u001b[0m\u001b[0mapple1\u001b[0m\u001b[1;33m)\u001b[0m\u001b[1;33m\u001b[0m\u001b[1;33m\u001b[0m\u001b[0m\n\u001b[0m\u001b[0;32m     23\u001b[0m \u001b[0mlp_apple2\u001b[0m\u001b[1;33m=\u001b[0m\u001b[0mlaplacian\u001b[0m\u001b[1;33m(\u001b[0m\u001b[0mapple2\u001b[0m\u001b[1;33m)\u001b[0m\u001b[1;33m\u001b[0m\u001b[1;33m\u001b[0m\u001b[0m\n\u001b[0;32m     24\u001b[0m \u001b[1;33m\u001b[0m\u001b[0m\n",
      "\u001b[1;32m<ipython-input-12-0d2d42b72554>\u001b[0m in \u001b[0;36mlaplacian\u001b[1;34m(image)\u001b[0m\n\u001b[0;32m     16\u001b[0m     \u001b[1;32mfor\u001b[0m \u001b[0mi\u001b[0m \u001b[1;32min\u001b[0m \u001b[0mrange\u001b[0m \u001b[1;33m(\u001b[0m\u001b[1;36m5\u001b[0m\u001b[1;33m,\u001b[0m\u001b[1;36m0\u001b[0m\u001b[1;33m,\u001b[0m\u001b[1;33m-\u001b[0m\u001b[1;36m1\u001b[0m\u001b[1;33m)\u001b[0m\u001b[1;33m:\u001b[0m\u001b[1;33m\u001b[0m\u001b[1;33m\u001b[0m\u001b[0m\n\u001b[0;32m     17\u001b[0m         \u001b[0mgauss_expand\u001b[0m\u001b[1;33m=\u001b[0m\u001b[0mcv2\u001b[0m\u001b[1;33m.\u001b[0m\u001b[0mpyrUp\u001b[0m\u001b[1;33m(\u001b[0m\u001b[0mgp\u001b[0m\u001b[1;33m[\u001b[0m\u001b[0mi\u001b[0m\u001b[1;33m]\u001b[0m\u001b[1;33m)\u001b[0m\u001b[1;33m\u001b[0m\u001b[1;33m\u001b[0m\u001b[0m\n\u001b[1;32m---> 18\u001b[1;33m         \u001b[0mlap\u001b[0m\u001b[1;33m=\u001b[0m\u001b[0mcv2\u001b[0m\u001b[1;33m.\u001b[0m\u001b[0msubtract\u001b[0m\u001b[1;33m(\u001b[0m\u001b[0mgp\u001b[0m\u001b[1;33m[\u001b[0m\u001b[0mi\u001b[0m\u001b[1;33m-\u001b[0m\u001b[1;36m1\u001b[0m\u001b[1;33m]\u001b[0m\u001b[1;33m,\u001b[0m\u001b[0mgauss_expand\u001b[0m\u001b[1;33m)\u001b[0m\u001b[1;33m\u001b[0m\u001b[1;33m\u001b[0m\u001b[0m\n\u001b[0m\u001b[0;32m     19\u001b[0m         \u001b[0mlp\u001b[0m\u001b[1;33m.\u001b[0m\u001b[0mappend\u001b[0m\u001b[1;33m(\u001b[0m\u001b[0mlap\u001b[0m\u001b[1;33m)\u001b[0m\u001b[1;33m\u001b[0m\u001b[1;33m\u001b[0m\u001b[0m\n\u001b[0;32m     20\u001b[0m     \u001b[1;32mreturn\u001b[0m \u001b[0mlp\u001b[0m\u001b[1;33m\u001b[0m\u001b[1;33m\u001b[0m\u001b[0m\n",
      "\u001b[1;31merror\u001b[0m: OpenCV(4.4.0) C:\\Users\\appveyor\\AppData\\Local\\Temp\\1\\pip-req-build-6sxsq0tp\\opencv\\modules\\core\\src\\arithm.cpp:669: error: (-209:Sizes of input arguments do not match) The operation is neither 'array op array' (where arrays have the same size and the same number of channels), nor 'array op scalar', nor 'scalar op array' in function 'cv::arithm_op'\n"
     ]
    }
   ],
   "source": [
    "import cv2\n",
    "import numpy as np\n",
    "apple1=cv2.imread(\"apple1.png\")\n",
    "apple2=cv2.imread(\"apple2.png\")\n",
    "\n",
    "apple_apple=np.hstack((apple1[:,:256],apple2[:,256:]))\n",
    "lp_apple1=[]\n",
    "lp_apple2=[]\n",
    "\n",
    "def laplacian(image):\n",
    "    gp=[image]\n",
    "    for i in range (6):\n",
    "        image=cv2.pyrDown(image)\n",
    "        gp.append(image)\n",
    "    lp=[gp[5]]\n",
    "    for i in range (5,0,-1):\n",
    "        gauss_expand=cv2.pyrUp(gp[i])\n",
    "        lap=cv2.subtract(gp[i-1],gauss_expand)\n",
    "        lp.append(lap)\n",
    "    return lp\n",
    "\n",
    "lp_apple1=laplacian(apple1)\n",
    "lp_apple2=laplacian(apple2)\n",
    "\n",
    "stack=[]\n",
    "for apple_lap1,apple_lap2 in zip(lp_apple1,lp_apple2):\n",
    "    col,rows,ch=apple_lap1.shape\n",
    "    lap=np.nstack((apple_lap1[:,:int(col/2)],apple_lap2[:,int(col/2):]))\n",
    "    stack.append(lap)\n",
    "\n",
    "\n",
    "recons=stack[0]\n",
    "for i in range(1,6):\n",
    "    recons=cv2.pyrUp(recons)\n",
    "    recons=cv2.add(stack[i],recons)\n",
    "\n",
    "cv2.imshow(\"hstack\",apple_apple)\n",
    "cv2.imshow(\"apple_apple\", recons)\n",
    "cv2.waitKey()\n",
    "cv2.destroyAllWindows()"
   ]
  },
  {
   "cell_type": "code",
   "execution_count": 19,
   "metadata": {},
   "outputs": [],
   "source": [
    "import cv2\n",
    "import numpy as np\n",
    "\n",
    "original_image=cv2.imread(\"apple1.png\")\n",
    "image=cv2.cvtColor(original_image,cv2.COLOR_BGR2GRAY)\n",
    "\n",
    "RET, image=cv2.threshold(image,170,225,0)\n",
    "image=cv2.Canny(image,30,70)\n",
    "\n",
    "contours,hierarchy=cv2.findContours(image,cv2.RETR_TREE,cv2.CHAIN_APPROX_NONE)\n",
    "cv2.drawContours(original_image,contours,-1,(200,100,0),5)\n",
    "\n",
    "\n",
    "\n",
    "cv2.imshow(\"original\",original_image)\n",
    "cv2.waitKey()\n",
    "cv2.destroyAllWindows()"
   ]
  },
  {
   "cell_type": "code",
   "execution_count": 21,
   "metadata": {},
   "outputs": [],
   "source": [
    "import cv2\n",
    "import numpy as np\n",
    "\n",
    "original_image=cv2.imread(\"apple1.png\")\n",
    "image=cv2.cvtColor(original_image,cv2.COLOR_BGR2GRAY)\n",
    "\n",
    "RET, image=cv2.threshold(image,170,225,0)\n",
    "#image=cv2.Canny(image,30,70)\n",
    "\n",
    "contours,hierarchy=cv2.findContours(image,cv2.RETR_EXTERNAL,cv2.CHAIN_APPROX_NONE)\n",
    "cv2.drawContours(original_image,contours,-1,(200,100,0),5)\n",
    "\n",
    "\n",
    "\n",
    "cv2.imshow(\"original\",original_image)\n",
    "cv2.waitKey()\n",
    "cv2.destroyAllWindows()"
   ]
  },
  {
   "cell_type": "code",
   "execution_count": null,
   "metadata": {},
   "outputs": [],
   "source": []
  }
 ],
 "metadata": {
  "kernelspec": {
   "display_name": "Python 3",
   "language": "python",
   "name": "python3"
  },
  "language_info": {
   "codemirror_mode": {
    "name": "ipython",
    "version": 3
   },
   "file_extension": ".py",
   "mimetype": "text/x-python",
   "name": "python",
   "nbconvert_exporter": "python",
   "pygments_lexer": "ipython3",
   "version": "3.7.8rc1"
  }
 },
 "nbformat": 4,
 "nbformat_minor": 4
}
