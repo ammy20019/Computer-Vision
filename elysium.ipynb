{
 "cells": [
  {
   "cell_type": "code",
   "execution_count": 21,
   "metadata": {},
   "outputs": [
    {
     "name": "stdout",
     "output_type": "stream",
     "text": [
      "ID of process running main program: 1760\n",
      "Main thread name: MainThread\n",
      "Task 1 assigned to thread: t1\n",
      "ID of process running task 1: 1760\n",
      "Task 2 assigned to thread: t2\n",
      "ID of process running task 2: 1760\n"
     ]
    }
   ],
   "source": [
    "# Python program to illustrate the concept \n",
    "# of threading \n",
    "import threading \n",
    "import os \n",
    "\n",
    "def task1(): \n",
    "\tprint(\"Task 1 assigned to thread: {}\".format(threading.current_thread().name)) \n",
    "\tprint(\"ID of process running task 1: {}\".format(os.getpid())) \n",
    "\n",
    "def task2(): \n",
    "\tprint(\"Task 2 assigned to thread: {}\".format(threading.current_thread().name)) \n",
    "\tprint(\"ID of process running task 2: {}\".format(os.getpid())) \n",
    "\n",
    "if __name__ == \"__main__\": \n",
    "\n",
    "\t# print ID of current process \n",
    "\tprint(\"ID of process running main program: {}\".format(os.getpid())) \n",
    "\n",
    "\t# print name of main thread \n",
    "\tprint(\"Main thread name: {}\".format(threading.current_thread().name)) \n",
    "\n",
    "\t# creating threads \n",
    "\tt1 = threading.Thread(target=task1, name='t1') \n",
    "\tt2 = threading.Thread(target=task2, name='t2') \n",
    "\n",
    "\t# starting threads \n",
    "\tt1.start() \n",
    "\tt2.start() \n",
    "\n",
    "\t# wait until all threads finish \n",
    "\tt1.join() \n",
    "\tt2.join() \n"
   ]
  },
  {
   "cell_type": "code",
   "execution_count": 35,
   "metadata": {},
   "outputs": [
    {
     "name": "stdout",
     "output_type": "stream",
     "text": [
      "Starting Cyborg-1\n",
      "Starting Cyborg-2\n",
      "Cyborg-1: Thu Dec 17 10:39:42 2020\n",
      "Cyborg-1: Thu Dec 17 10:39:47 2020\n",
      "Cyborg-1: Thu Dec 17 10:39:52 2020\n",
      "Cyborg-2: Thu Dec 17 10:39:53 2020\n",
      "Cyborg-2: Thu Dec 17 10:39:54 2020\n",
      "Cyborg-2: Thu Dec 17 10:39:55 2020\n",
      "Exiting Main Thread\n"
     ]
    }
   ],
   "source": [
    "\n",
    "import threading\n",
    "import time\n",
    "\n",
    "class myThread (threading.Thread):\n",
    "   def __init__(self, threadID, name, counter):\n",
    "      threading.Thread.__init__(self)\n",
    "      self.threadID = threadID\n",
    "      self.name = name\n",
    "      self.counter = counter\n",
    "   def run(self):\n",
    "      print (\"Starting \" + self.name)\n",
    "      # Get lock to synchronize threads\n",
    "      threadLock.acquire()\n",
    "      print_time(self.name, self.counter, 3)\n",
    "      # Free lock to release next thread\n",
    "      threadLock.release()\n",
    "\n",
    "def print_time(threadName, delay, counter):\n",
    "   while counter:\n",
    "      time.sleep(delay)\n",
    "      print (\"%s: %s\" % (threadName, time.ctime(time.time())))\n",
    "      counter -= 1\n",
    "\n",
    "threadLock = threading.Lock()\n",
    "threads = []\n",
    "\n",
    "# Create new threads\n",
    "thread1 = myThread(1, \"Cyborg-1\", 1)\n",
    "thread2 = myThread(2, \"Cyborg-2\", 1)\n",
    "\n",
    "# Start new Threads\n",
    "thread1.start()\n",
    "thread2.start()\n",
    "\n",
    "# Add threads to thread list\n",
    "threads.append(thread1)\n",
    "threads.append(thread2)\n",
    "\n",
    "# Wait for all threads to complete\n",
    "for t in threads:\n",
    "    t.join()\n",
    "print (\"Exiting Main Thread\")"
   ]
  },
  {
   "cell_type": "code",
   "execution_count": null,
   "metadata": {},
   "outputs": [],
   "source": []
  },
  {
   "cell_type": "code",
   "execution_count": 19,
   "metadata": {},
   "outputs": [
    {
     "name": "stdout",
     "output_type": "stream",
     "text": [
      "Requirement already satisfied: download in c:\\users\\admin\\appdata\\local\\programs\\python\\python37\\lib\\site-packages (0.3.5)\n",
      "Requirement already satisfied: requests in c:\\users\\admin\\appdata\\local\\programs\\python\\python37\\lib\\site-packages (from download) (2.24.0)\n",
      "Requirement already satisfied: tqdm in c:\\users\\admin\\appdata\\local\\programs\\python\\python37\\lib\\site-packages (from download) (4.54.0)\n",
      "Requirement already satisfied: six in c:\\users\\admin\\appdata\\local\\programs\\python\\python37\\lib\\site-packages (from download) (1.15.0)\n",
      "Requirement already satisfied: urllib3!=1.25.0,!=1.25.1,<1.26,>=1.21.1 in c:\\users\\admin\\appdata\\local\\programs\\python\\python37\\lib\\site-packages (from requests->download) (1.25.11)\n",
      "Requirement already satisfied: certifi>=2017.4.17 in c:\\users\\admin\\appdata\\local\\programs\\python\\python37\\lib\\site-packages (from requests->download) (2020.6.20)\n",
      "Requirement already satisfied: idna<3,>=2.5 in c:\\users\\admin\\appdata\\local\\programs\\python\\python37\\lib\\site-packages (from requests->download) (2.10)\n",
      "Requirement already satisfied: chardet<4,>=3.0.2 in c:\\users\\admin\\appdata\\local\\programs\\python\\python37\\lib\\site-packages (from requests->download) (3.0.4)\n"
     ]
    },
    {
     "name": "stderr",
     "output_type": "stream",
     "text": [
      "WARNING: You are using pip version 20.2.4; however, version 20.3.3 is available.\n",
      "You should consider upgrading via the 'c:\\users\\admin\\appdata\\local\\programs\\python\\python37\\python.exe -m pip install --upgrade pip' command.\n"
     ]
    }
   ],
   "source": [
    "!pip3 install download"
   ]
  },
  {
   "cell_type": "code",
   "execution_count": 85,
   "metadata": {
    "scrolled": true
   },
   "outputs": [
    {
     "name": "stdout",
     "output_type": "stream",
     "text": [
      "Initiate the number of bots!\n",
      "Enter count of Cyborg: 10\n",
      "Enter count of Cyborg X732HD: 10\n",
      "Cyborg: 1\n",
      "Preparing for battle\n",
      "Ready to battle\n",
      "\n",
      "Cyborg: 2\n",
      "\n",
      "Preparing for battle\n",
      "Ready to battle\n",
      "Cyborg: 3\n",
      "Preparing for battle\n",
      "\n",
      "Ready to battle\n",
      "Cyborg: 4\n",
      "Preparing for battle\n",
      "Ready to battle\n",
      "\n",
      "Cyborg: 5\n",
      "\n",
      "Preparing for battle\n",
      "Ready to battle\n",
      "Cyborg: 6\n",
      "Preparing for battle\n",
      "Ready to battle\n",
      "Cyborg: 7\n",
      "\n",
      "Preparing for battle\n",
      "\n",
      "Ready to battle\n",
      "Cyborg: 8\n",
      "\n",
      "Preparing for battle\n",
      "Ready to battle\n",
      "Cyborg: 9\n",
      "Preparing for battle\n",
      "\n",
      "Ready to battle\n",
      "Cyborg: 10\n",
      "\n",
      "Preparing for battle\n",
      "Ready to battle\n",
      "Cyborg X732HD: 1\n",
      "\n",
      "Preparing for battle\n",
      "Ready to Deploy\n",
      "Cyborg X732HD: 1\n",
      "\n",
      "Preparing for battle\n",
      "Ready to Deploy\n",
      "Cyborg X732HD: 1\n",
      "\n",
      "Preparing for battle\n",
      "Ready to Deploy\n",
      "Cyborg X732HD: 1\n",
      "\n",
      "Preparing for battle\n",
      "Ready to Deploy\n",
      "Cyborg X732HD: 1\n",
      "Preparing for battle\n",
      "\n",
      "Ready to Deploy\n",
      "Cyborg X732HD: 1\n",
      "Preparing for battle\n",
      "Ready to Deploy\n",
      "\n",
      "Cyborg X732HD: 1\n",
      "Preparing for battle\n",
      "\n",
      "Ready to Deploy\n",
      "Cyborg X732HD: 1\n",
      "Preparing for battle\n",
      "\n",
      "Ready to Deploy\n",
      "Cyborg X732HD: 1\n",
      "\n",
      "Preparing for battle\n",
      "Ready to Deploy\n",
      "Cyborg X732HD: 1\n",
      "\n",
      "Preparing for battle\n",
      "Ready to Deploy\n",
      "Command Successfully Executed\n",
      "Total Bots: 20\n",
      "Cyborg: 10\n",
      "Cyborg X732HD: 10\n"
     ]
    }
   ],
   "source": [
    "import threading\n",
    "\n",
    "def cybo():\n",
    "        print(\"Preparing for battle\")\n",
    "        time.sleep(3)\n",
    "        print(\"Ready to battle\")\n",
    "        return\n",
    "\n",
    "def cybo_s():\n",
    "        print(\"Preparing for battle\")\n",
    "        time.sleep(5)\n",
    "        print(\"Ready to Deploy\")\n",
    "        return\n",
    "\n",
    "def worker(num):\n",
    "    #thread worker function\n",
    "    num=num+1\n",
    "    print('Cyborg: %s' % num +'\\n')\n",
    "    return\n",
    "\n",
    "def special_bot(num):\n",
    "    #thread worker function\n",
    "    num=+1\n",
    "    print('Cyborg X732HD: %s' % num +'\\n')\n",
    "    return\n",
    "\n",
    "threads = []\n",
    "special_threads=[]\n",
    "def initiate(n,m):\n",
    "    c1=0\n",
    "    c2=0\n",
    "    for i in range(n):\n",
    "        t = threading.Thread(target=worker, args=(i,))\n",
    "        threads.append(t)\n",
    "        t.start()\n",
    "        cybo()\n",
    "        c1+=1\n",
    "    for i in range(m):\n",
    "        t = threading.Thread(target=special_bot, args=(i,))\n",
    "        special_threads.append(t)\n",
    "        t.start()\n",
    "        cybo_s()\n",
    "        c2+=1\n",
    "    print(\"Command Successfully Executed\")\n",
    "    print(\"Total Bots:\",c1+c2)\n",
    "    print(\"Cyborg:\",c1)\n",
    "    print(\"Cyborg X732HD:\",c2)\n",
    "\n",
    "\n",
    "\n",
    "print(\"Initiate the number of bots!\")\n",
    "a = int(input(\"Enter count of Cyborg: \"))\n",
    "b = int(input(\"Enter count of Cyborg X732HD: \"))\n",
    "initiate(a,b)"
   ]
  },
  {
   "cell_type": "code",
   "execution_count": 83,
   "metadata": {},
   "outputs": [
    {
     "name": "stdout",
     "output_type": "stream",
     "text": [
      "hello 12\n"
     ]
    }
   ],
   "source": [
    "i=12\n",
    "print(\"hello\",i)"
   ]
  },
  {
   "cell_type": "code",
   "execution_count": 50,
   "metadata": {},
   "outputs": [
    {
     "name": "stderr",
     "output_type": "stream",
     "text": [
      "(daemon    ) Starting\n",
      "(non-daemon) Starting\n",
      "(non-daemon) Exiting\n",
      "(daemon    ) Exiting\n"
     ]
    }
   ],
   "source": [
    "import threading\n",
    "import time\n",
    "import logging\n",
    "\n",
    "logging.basicConfig(level=logging.DEBUG,\n",
    "                    format='(%(threadName)-10s) %(message)s',\n",
    "                    )\n",
    "\n",
    "def daemon():\n",
    "    logging.debug('Starting')\n",
    "    time.sleep(2)\n",
    "    logging.debug('Exiting')\n",
    "\n",
    "d = threading.Thread(name='daemon', target=daemon)\n",
    "d.setDaemon(True)\n",
    "\n",
    "def non_daemon():\n",
    "    logging.debug('Starting')\n",
    "    logging.debug('Exiting')\n",
    "\n",
    "t = threading.Thread(name='non-daemon', target=non_daemon)\n",
    "\n",
    "d.start()\n",
    "t.start()\n",
    "\n",
    "d.join()\n",
    "t.join()"
   ]
  },
  {
   "cell_type": "code",
   "execution_count": null,
   "metadata": {},
   "outputs": [],
   "source": []
  }
 ],
 "metadata": {
  "kernelspec": {
   "display_name": "Python 3",
   "language": "python",
   "name": "python3"
  },
  "language_info": {
   "codemirror_mode": {
    "name": "ipython",
    "version": 3
   },
   "file_extension": ".py",
   "mimetype": "text/x-python",
   "name": "python",
   "nbconvert_exporter": "python",
   "pygments_lexer": "ipython3",
   "version": "3.7.8rc1"
  }
 },
 "nbformat": 4,
 "nbformat_minor": 4
}
